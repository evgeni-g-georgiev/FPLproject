{
 "cells": [
  {
   "cell_type": "code",
   "execution_count": null,
   "id": "3cabe593-f5d3-42e8-ae9c-57e38a12120a",
   "metadata": {},
   "outputs": [],
   "source": [
    "web_scraping_and_visualisation.ipynb"
   ]
  },
  {
   "cell_type": "code",
   "execution_count": null,
   "id": "951ef2fe-5b92-4f38-adf1-b3ae50bb51b1",
   "metadata": {},
   "outputs": [],
   "source": [
    "/Users/evgenigeorgiev/Documents/Jupyter\\ Projects/FPL/web_scraping_and_visualisation.ipynb"
   ]
  },
  {
   "cell_type": "code",
   "execution_count": 2,
   "id": "6a556b53-148e-49b2-83aa-b65afadb2a48",
   "metadata": {
    "tags": []
   },
   "outputs": [],
   "source": [
    "import requests\n",
    "import pandas as pd\n",
    "from tqdm import tqdm\n",
    "import os"
   ]
  },
  {
   "cell_type": "code",
   "execution_count": 3,
   "id": "687c433d-4ae7-4f67-8aa7-4dbc912f3556",
   "metadata": {
    "tags": []
   },
   "outputs": [
    {
     "name": "stderr",
     "output_type": "stream",
     "text": [
      "Processing GW1:   0%|                                   | 0/800 [00:00<?, ?it/s]Fatal Python error: config_get_locale_encoding: failed to get the locale encoding: nl_langinfo(CODESET) failed\n",
      "Python runtime state: preinitialized\n",
      "\n",
      "Processing GW1: 100%|█████████████████████████| 800/800 [01:05<00:00, 12.28it/s]\n",
      "Processing GW2: 100%|█████████████████████████| 800/800 [01:03<00:00, 12.54it/s]\n",
      "Processing GW3: 100%|█████████████████████████| 800/800 [01:05<00:00, 12.14it/s]\n",
      "Processing GW4: 100%|█████████████████████████| 800/800 [01:04<00:00, 12.35it/s]\n",
      "Processing GW5: 100%|█████████████████████████| 800/800 [01:07<00:00, 11.86it/s]\n",
      "Processing GW6: 100%|█████████████████████████| 800/800 [01:04<00:00, 12.41it/s]\n",
      "Processing GW7: 100%|█████████████████████████| 800/800 [01:06<00:00, 12.02it/s]\n",
      "Processing GW8: 100%|█████████████████████████| 800/800 [01:06<00:00, 12.02it/s]\n",
      "Processing GW9: 100%|█████████████████████████| 800/800 [01:07<00:00, 11.86it/s]\n",
      "Processing GW10: 100%|████████████████████████| 800/800 [01:08<00:00, 11.70it/s]\n",
      "Processing GW11: 100%|████████████████████████| 800/800 [01:07<00:00, 11.87it/s]\n",
      "Processing GW12: 100%|████████████████████████| 800/800 [01:07<00:00, 11.82it/s]\n",
      "Processing GW13: 100%|████████████████████████| 800/800 [05:03<00:00,  2.64it/s]\n",
      "Processing GW14: 100%|████████████████████████| 800/800 [17:10<00:00,  1.29s/it]\n",
      "Processing GW15: 100%|████████████████████████| 800/800 [04:30<00:00,  2.96it/s]\n",
      "Processing GW16: 100%|████████████████████████| 800/800 [01:03<00:00, 12.52it/s]\n",
      "Processing GW17: 100%|████████████████████████| 800/800 [01:04<00:00, 12.33it/s]\n",
      "Processing GW18: 100%|████████████████████████| 800/800 [01:08<00:00, 11.70it/s]\n",
      "Processing GW19: 100%|████████████████████████| 800/800 [01:06<00:00, 12.02it/s]\n",
      "Processing GW20: 100%|████████████████████████| 800/800 [01:04<00:00, 12.31it/s]\n",
      "Processing GW21: 100%|████████████████████████| 800/800 [01:07<00:00, 11.87it/s]\n"
     ]
    },
    {
     "name": "stdout",
     "output_type": "stream",
     "text": [
      "No data available for Gameweek 21.\n"
     ]
    },
    {
     "name": "stderr",
     "output_type": "stream",
     "text": [
      "Processing GW22: 100%|████████████████████████| 800/800 [01:05<00:00, 12.20it/s]\n"
     ]
    },
    {
     "name": "stdout",
     "output_type": "stream",
     "text": [
      "No data available for Gameweek 22.\n"
     ]
    },
    {
     "name": "stderr",
     "output_type": "stream",
     "text": [
      "Processing GW23: 100%|████████████████████████| 800/800 [01:05<00:00, 12.21it/s]\n"
     ]
    },
    {
     "name": "stdout",
     "output_type": "stream",
     "text": [
      "No data available for Gameweek 23.\n"
     ]
    },
    {
     "name": "stderr",
     "output_type": "stream",
     "text": [
      "Processing GW24: 100%|████████████████████████| 800/800 [01:05<00:00, 12.20it/s]\n"
     ]
    },
    {
     "name": "stdout",
     "output_type": "stream",
     "text": [
      "No data available for Gameweek 24.\n"
     ]
    },
    {
     "name": "stderr",
     "output_type": "stream",
     "text": [
      "Processing GW25: 100%|████████████████████████| 800/800 [01:06<00:00, 12.09it/s]\n"
     ]
    },
    {
     "name": "stdout",
     "output_type": "stream",
     "text": [
      "No data available for Gameweek 25.\n"
     ]
    },
    {
     "name": "stderr",
     "output_type": "stream",
     "text": [
      "Processing GW26: 100%|████████████████████████| 800/800 [01:04<00:00, 12.38it/s]\n"
     ]
    },
    {
     "name": "stdout",
     "output_type": "stream",
     "text": [
      "No data available for Gameweek 26.\n"
     ]
    },
    {
     "name": "stderr",
     "output_type": "stream",
     "text": [
      "Processing GW27: 100%|████████████████████████| 800/800 [01:05<00:00, 12.16it/s]\n"
     ]
    },
    {
     "name": "stdout",
     "output_type": "stream",
     "text": [
      "No data available for Gameweek 27.\n"
     ]
    },
    {
     "name": "stderr",
     "output_type": "stream",
     "text": [
      "Processing GW28: 100%|████████████████████████| 800/800 [01:05<00:00, 12.19it/s]\n"
     ]
    },
    {
     "name": "stdout",
     "output_type": "stream",
     "text": [
      "No data available for Gameweek 28.\n"
     ]
    },
    {
     "name": "stderr",
     "output_type": "stream",
     "text": [
      "Processing GW29: 100%|████████████████████████| 800/800 [01:05<00:00, 12.22it/s]\n"
     ]
    },
    {
     "name": "stdout",
     "output_type": "stream",
     "text": [
      "No data available for Gameweek 29.\n"
     ]
    },
    {
     "name": "stderr",
     "output_type": "stream",
     "text": [
      "Processing GW30: 100%|████████████████████████| 800/800 [01:04<00:00, 12.34it/s]\n"
     ]
    },
    {
     "name": "stdout",
     "output_type": "stream",
     "text": [
      "No data available for Gameweek 30.\n"
     ]
    },
    {
     "name": "stderr",
     "output_type": "stream",
     "text": [
      "Processing GW31: 100%|████████████████████████| 800/800 [01:05<00:00, 12.23it/s]\n"
     ]
    },
    {
     "name": "stdout",
     "output_type": "stream",
     "text": [
      "No data available for Gameweek 31.\n"
     ]
    },
    {
     "name": "stderr",
     "output_type": "stream",
     "text": [
      "Processing GW32: 100%|████████████████████████| 800/800 [01:05<00:00, 12.28it/s]\n"
     ]
    },
    {
     "name": "stdout",
     "output_type": "stream",
     "text": [
      "No data available for Gameweek 32.\n"
     ]
    },
    {
     "name": "stderr",
     "output_type": "stream",
     "text": [
      "Processing GW33: 100%|████████████████████████| 800/800 [01:05<00:00, 12.20it/s]\n"
     ]
    },
    {
     "name": "stdout",
     "output_type": "stream",
     "text": [
      "No data available for Gameweek 33.\n"
     ]
    },
    {
     "name": "stderr",
     "output_type": "stream",
     "text": [
      "Processing GW34: 100%|████████████████████████| 800/800 [01:06<00:00, 12.01it/s]\n"
     ]
    },
    {
     "name": "stdout",
     "output_type": "stream",
     "text": [
      "No data available for Gameweek 34.\n"
     ]
    },
    {
     "name": "stderr",
     "output_type": "stream",
     "text": [
      "Processing GW35: 100%|████████████████████████| 800/800 [01:05<00:00, 12.22it/s]\n"
     ]
    },
    {
     "name": "stdout",
     "output_type": "stream",
     "text": [
      "No data available for Gameweek 35.\n"
     ]
    },
    {
     "name": "stderr",
     "output_type": "stream",
     "text": [
      "Processing GW36: 100%|████████████████████████| 800/800 [01:04<00:00, 12.42it/s]\n"
     ]
    },
    {
     "name": "stdout",
     "output_type": "stream",
     "text": [
      "No data available for Gameweek 36.\n"
     ]
    },
    {
     "name": "stderr",
     "output_type": "stream",
     "text": [
      "Processing GW37: 100%|████████████████████████| 800/800 [01:03<00:00, 12.59it/s]\n"
     ]
    },
    {
     "name": "stdout",
     "output_type": "stream",
     "text": [
      "No data available for Gameweek 37.\n"
     ]
    },
    {
     "name": "stderr",
     "output_type": "stream",
     "text": [
      "Processing GW38: 100%|████████████████████████| 800/800 [01:05<00:00, 12.29it/s]"
     ]
    },
    {
     "name": "stdout",
     "output_type": "stream",
     "text": [
      "No data available for Gameweek 38.\n"
     ]
    },
    {
     "name": "stderr",
     "output_type": "stream",
     "text": [
      "\n"
     ]
    }
   ],
   "source": [
    "# Base URL for the Fantasy Premier League API\n",
    "base_url = 'https://fantasy.premierleague.com/api/'\n",
    "\n",
    "# Function to get JSON data from a given URL\n",
    "def get_json(url):\n",
    "    try:\n",
    "        response = requests.get(url)  # Sends a GET request to the URL\n",
    "        response.raise_for_status()  # Will raise an HTTPError if the request is unsuccessful\n",
    "        return response.json()  # Returns the JSON content from the response\n",
    "    except requests.exceptions.RequestException:\n",
    "        return None  # Returns None if there is any exception (e.g., network error, invalid URL)\n",
    "\n",
    "# Function to create a DataFrame for a specific player (ID) and gameweek\n",
    "def create_gameweek_specific_player_df(player_id, gameweek):\n",
    "    player_data = get_json(base_url + f'element-summary/{player_id}/')  # Fetches player data\n",
    "    if player_data:\n",
    "        history_df = pd.DataFrame(player_data['history'])  # Converts the 'history' part of player data to a DataFrame\n",
    "        return history_df[history_df['round'] == gameweek]  # Filters and returns data for the specified gameweek\n",
    "    else:\n",
    "        return pd.DataFrame()  # Returns an empty DataFrame if no player data is found\n",
    "\n",
    "# Part of the code responsible for saving the data to file directory so we do not need to re-run scraping.\n",
    "player_save_path = \"/Users/evgenigeorgiev/Documents/Jupyter Projects/FPL/player_dataframes\"\n",
    "if not os.path.exists(player_save_path):\n",
    "    os.makedirs(player_save_path)  # Creates the directory if it does not exist\n",
    "\n",
    "player_ids = range(800)  # Adjust as necessary - this defines the range of player IDs to fetch\n",
    "\n",
    "for gw in range(1, 39):  # Iterates through gameweeks 1 to 38\n",
    "    gw_data = []  # Initializes an empty list to store gameweek data\n",
    "    with tqdm(total=len(player_ids), desc=f\"Processing GW{gw}\") as pbar:  # Initializes a progress bar\n",
    "        for player_id in player_ids:  # Iterates through each player ID\n",
    "            gw_specific_df = create_gameweek_specific_player_df(player_id, gw)  # Gets the gameweek-specific DataFrame\n",
    "            if not gw_specific_df.empty:\n",
    "                gw_specific_df['player_id'] = player_id  # Adds the player ID to the DataFrame\n",
    "                gw_data.append(gw_specific_df)  # Appends the DataFrame to the list\n",
    "            pbar.update(1)  # Updates the progress bar\n",
    "\n",
    "    if gw_data:\n",
    "        combined_gw_df = pd.concat(gw_data, ignore_index=True)  # Combines all DataFrame into one\n",
    "        file_path = os.path.join(player_save_path, f'gw{gw}_players.csv')  # Defines the file path\n",
    "        combined_gw_df.to_csv(file_path, index=False)  # Saves the DataFrame to a CSV file\n",
    "    else:\n",
    "        print(f\"No data available for Gameweek {gw}.\")  # Prints a message if there is no data for the gameweek\n"
   ]
  },
  {
   "cell_type": "code",
   "execution_count": null,
   "id": "4e597d82-6296-46b2-b740-c7143c053118",
   "metadata": {},
   "outputs": [],
   "source": []
  },
  {
   "cell_type": "code",
   "execution_count": null,
   "id": "be6dbf91-9f63-4ceb-aea6-27e1f69cdd90",
   "metadata": {},
   "outputs": [],
   "source": []
  },
  {
   "cell_type": "code",
   "execution_count": null,
   "id": "dfdc42bc-17bd-4220-90c1-83e79ed1e7b8",
   "metadata": {},
   "outputs": [],
   "source": []
  },
  {
   "cell_type": "code",
   "execution_count": null,
   "id": "5131940b-20e7-466a-ba99-3cda428247eb",
   "metadata": {},
   "outputs": [],
   "source": []
  },
  {
   "cell_type": "code",
   "execution_count": null,
   "id": "01b181ba-2063-4759-a80f-000b78b224e0",
   "metadata": {},
   "outputs": [],
   "source": []
  },
  {
   "cell_type": "code",
   "execution_count": null,
   "id": "cbbc9149-4277-4585-892c-a65393b7c196",
   "metadata": {},
   "outputs": [],
   "source": []
  },
  {
   "cell_type": "code",
   "execution_count": null,
   "id": "2461708f-45be-4da6-9d82-6f55b7fc5d10",
   "metadata": {},
   "outputs": [],
   "source": []
  },
  {
   "cell_type": "code",
   "execution_count": null,
   "id": "4ead2568-54b1-400b-a81e-40250e5f62fe",
   "metadata": {},
   "outputs": [],
   "source": []
  }
 ],
 "metadata": {
  "kernelspec": {
   "display_name": "Python 3 (ipykernel)",
   "language": "python",
   "name": "python3"
  },
  "language_info": {
   "codemirror_mode": {
    "name": "ipython",
    "version": 3
   },
   "file_extension": ".py",
   "mimetype": "text/x-python",
   "name": "python",
   "nbconvert_exporter": "python",
   "pygments_lexer": "ipython3",
   "version": "3.8.18"
  }
 },
 "nbformat": 4,
 "nbformat_minor": 5
}
