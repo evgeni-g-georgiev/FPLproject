{
 "cells": [
  {
   "cell_type": "code",
   "execution_count": null,
   "id": "3cabe593-f5d3-42e8-ae9c-57e38a12120a",
   "metadata": {},
   "outputs": [],
   "source": [
    "web_scraping_and_visualisation.ipynb"
   ]
  },
  {
   "cell_type": "code",
   "execution_count": null,
   "id": "951ef2fe-5b92-4f38-adf1-b3ae50bb51b1",
   "metadata": {},
   "outputs": [],
   "source": [
    "/Users/evgenigeorgiev/Documents/Jupyter\\ Projects/FPL/web_scraping_and_visualisation.ipynb"
   ]
  },
  {
   "cell_type": "code",
   "execution_count": null,
   "id": "6a556b53-148e-49b2-83aa-b65afadb2a48",
   "metadata": {},
   "outputs": [],
   "source": []
  },
  {
   "cell_type": "code",
   "execution_count": null,
   "id": "27c0a87d-3f3a-4cf9-b185-46dca58a0fa7",
   "metadata": {},
   "outputs": [],
   "source": []
  }
 ],
 "metadata": {
  "kernelspec": {
   "display_name": "Python 3 (ipykernel)",
   "language": "python",
   "name": "python3"
  },
  "language_info": {
   "codemirror_mode": {
    "name": "ipython",
    "version": 3
   },
   "file_extension": ".py",
   "mimetype": "text/x-python",
   "name": "python",
   "nbconvert_exporter": "python",
   "pygments_lexer": "ipython3",
   "version": "3.8.18"
  }
 },
 "nbformat": 4,
 "nbformat_minor": 5
}
